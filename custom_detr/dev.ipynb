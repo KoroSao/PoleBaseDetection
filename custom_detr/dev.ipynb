{
 "cells": [
  {
   "cell_type": "code",
   "execution_count": 1,
   "metadata": {},
   "outputs": [],
   "source": [
    "from datasets.pole import PoleDataset\n",
    "import pandas as pd\n",
    "\n",
    "Pole_dataset = PoleDataset(root_dir=\"../data_manual_annotations\", image_set=\"train\")\n",
    "img, ann = Pole_dataset[50]"
   ]
  },
  {
   "cell_type": "code",
   "execution_count": 2,
   "metadata": {},
   "outputs": [
    {
     "data": {
      "text/plain": [
       "tensor([[[ 1.6838,  1.6838,  1.6838,  ...,  1.6324,  1.6324,  1.6324],\n",
       "         [ 1.7009,  1.7009,  1.7009,  ...,  1.6324,  1.6324,  1.6324],\n",
       "         [ 1.7352,  1.7352,  1.7352,  ...,  1.6495,  1.6324,  1.6324],\n",
       "         ...,\n",
       "         [ 0.6049,  0.6049,  0.6392,  ...,  0.0398,  0.1254,  0.1768],\n",
       "         [ 0.6221,  0.6221,  0.6392,  ...,  0.0227,  0.0912,  0.1254],\n",
       "         [ 0.6221,  0.6392,  0.6392,  ...,  0.0398, -0.1143, -0.2171]],\n",
       "\n",
       "        [[ 1.9384,  1.9384,  1.9384,  ...,  1.9209,  1.9209,  1.9209],\n",
       "         [ 1.9559,  1.9559,  1.9559,  ...,  1.9209,  1.9209,  1.9209],\n",
       "         [ 1.9909,  1.9909,  1.9909,  ...,  1.9384,  1.9209,  1.9209],\n",
       "         ...,\n",
       "         [ 0.6954,  0.6954,  0.7304,  ...,  0.2577,  0.3627,  0.4153],\n",
       "         [ 0.7129,  0.7129,  0.7304,  ...,  0.2227,  0.3277,  0.3627],\n",
       "         [ 0.7129,  0.7304,  0.7304,  ...,  0.2402,  0.1176,  0.0126]],\n",
       "\n",
       "        [[ 2.4831,  2.4831,  2.4831,  ...,  2.4483,  2.4483,  2.4483],\n",
       "         [ 2.5006,  2.5006,  2.5006,  ...,  2.4483,  2.4483,  2.4483],\n",
       "         [ 2.5354,  2.5354,  2.5354,  ...,  2.4657,  2.4483,  2.4483],\n",
       "         ...,\n",
       "         [ 1.0365,  1.0365,  1.0714,  ...,  0.4962,  0.5834,  0.6356],\n",
       "         [ 1.0539,  1.0539,  1.0714,  ...,  0.4614,  0.5485,  0.5834],\n",
       "         [ 1.0539,  1.0714,  1.0714,  ...,  0.4788,  0.3393,  0.2348]]])"
      ]
     },
     "execution_count": 2,
     "metadata": {},
     "output_type": "execute_result"
    }
   ],
   "source": [
    "img"
   ]
  }
 ],
 "metadata": {
  "kernelspec": {
   "display_name": "TX",
   "language": "python",
   "name": "python3"
  },
  "language_info": {
   "codemirror_mode": {
    "name": "ipython",
    "version": 3
   },
   "file_extension": ".py",
   "mimetype": "text/x-python",
   "name": "python",
   "nbconvert_exporter": "python",
   "pygments_lexer": "ipython3",
   "version": "3.9.18"
  },
  "orig_nbformat": 4
 },
 "nbformat": 4,
 "nbformat_minor": 2
}
