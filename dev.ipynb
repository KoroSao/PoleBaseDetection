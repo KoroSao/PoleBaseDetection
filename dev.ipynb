{
 "cells": [
  {
   "cell_type": "code",
   "execution_count": 1,
   "metadata": {},
   "outputs": [],
   "source": [
    "import cv2\n",
    "import json\n",
    "import numpy as np\n",
    "import matplotlib.pyplot as plt\n",
    "from PIL import Image, ImageDraw\n",
    "import torch\n",
    "import torch.nn.functional as F"
   ]
  },
  {
   "cell_type": "code",
   "execution_count": 9,
   "metadata": {},
   "outputs": [
    {
     "data": {
      "text/plain": [
       "[<matplotlib.lines.Line2D at 0x7f4df9b27ca0>]"
      ]
     },
     "execution_count": 9,
     "metadata": {},
     "output_type": "execute_result"
    },
    {
     "data": {
      "image/png": "[encoded data removed]",
      "text/plain": [
       "<Figure size 640x480 with 1 Axes>"
      ]
     },
     "metadata": {},
     "output_type": "display_data"
    }
   ],
   "source": [
    "def depth_regression(X):\n",
    "    return 1221.1025860930577 -6.13183029e+00*X + 1.03173169e-02*X**2 -5.76531414e-06*X**3\n",
    "\n",
    "def depth_rescaling(X, old_range=[-32,1221], new_range=[1,10]):\n",
    "    new_min, new_max = new_range\n",
    "    old_min, old_max = old_range\n",
    "    return (X - old_min) * (new_max - new_min) / (old_max - old_min) + new_min\n",
    "\n",
    "\n",
    "# def depth_regression(y, img_height=800):\n",
    "#     y = img_height - y\n",
    "#     return np.exp( y*10 / (img_height) )\n",
    "\n",
    "# print function on data from 0 to 800\n",
    "x = np.arange(0, 800)\n",
    "y = [depth_rescaling(depth_regression(i)) for i in x]\n",
    "plt.plot(x, y)\n"
   ]
  },
  {
   "cell_type": "code",
   "execution_count": 7,
   "metadata": {},
   "outputs": [
    {
     "data": {
      "text/plain": [
       "1221.1025860930577"
      ]
     },
     "execution_count": 7,
     "metadata": {},
     "output_type": "execute_result"
    }
   ],
   "source": [
    "max(y)"
   ]
  },
  {
   "cell_type": "code",
   "execution_count": 18,
   "metadata": {},
   "outputs": [],
   "source": [
    "def loss_depth_scaled_dist(out_point, tgt_point, num_boxes=1):\n",
    "    loss = F.l1_loss(out_point, tgt_point, reduction='none')\n",
    "    depth = torch.tensor([depth_regression(yi) for yi in tgt_point[:,1]])\n",
    "    loss = loss * depth[:, None]  # None adds a new axis to scalars\n",
    "    return loss.sum() / num_boxes"
   ]
  },
  {
   "cell_type": "code",
   "execution_count": 19,
   "metadata": {},
   "outputs": [
    {
     "name": "stdout",
     "output_type": "stream",
     "text": [
      "tensor([ 13.8526, 154.4485])\n"
     ]
    },
    {
     "data": {
      "text/plain": [
       "tensor([[1.3853e+01, 0.0000e+00],\n",
       "        [0.0000e+00, 1.5445e+04]])"
      ]
     },
     "execution_count": 19,
     "metadata": {},
     "output_type": "execute_result"
    }
   ],
   "source": [
    "out_point = torch.tensor([\n",
    "    [0,500],\n",
    "    [10,200],\n",
    "    ]).float()\n",
    "\n",
    "tgt_point = torch.tensor([\n",
    "    [1,500],\n",
    "    [10,300],\n",
    "    ]).float()\n",
    "\n",
    "loss_depth_scaled_dist(out_point, tgt_point)"
   ]
  },
  {
   "cell_type": "code",
   "execution_count": null,
   "metadata": {},
   "outputs": [],
   "source": []
  }
 ],
 "metadata": {
  "kernelspec": {
   "display_name": "TX",
   "language": "python",
   "name": "python3"
  },
  "language_info": {
   "codemirror_mode": {
    "name": "ipython",
    "version": 3
   },
   "file_extension": ".py",
   "mimetype": "text/x-python",
   "name": "python",
   "nbconvert_exporter": "python",
   "pygments_lexer": "ipython3",
   "version": "3.9.18"
  },
  "orig_nbformat": 4
 },
 "nbformat": 4,
 "nbformat_minor": 2
}
