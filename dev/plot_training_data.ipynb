{
 "cells": [
  {
   "cell_type": "markdown",
   "metadata": {},
   "source": [
    "# This notebook visualizes and plots the training metrics of a given model\n",
    "Please provide this notebook with the path to the training metrics file (e.g. 'log.txt' in the case of DETR)."
   ]
  },
  {
   "cell_type": "code",
   "execution_count": 4,
   "metadata": {},
   "outputs": [
    {
     "name": "stdout",
     "output_type": "stream",
     "text": [
      "Requirement already satisfied: seaborn in /home/romain/anaconda3/envs/TX/lib/python3.9/site-packages (0.12.2)\n",
      "Requirement already satisfied: numpy!=1.24.0,>=1.17 in /home/romain/anaconda3/envs/TX/lib/python3.9/site-packages (from seaborn) (1.25.2)\n",
      "Requirement already satisfied: pandas>=0.25 in /home/romain/anaconda3/envs/TX/lib/python3.9/site-packages (from seaborn) (2.1.1)\n",
      "Requirement already satisfied: matplotlib!=3.6.1,>=3.1 in /home/romain/.local/lib/python3.9/site-packages (from seaborn) (3.5.0)\n",
      "Requirement already satisfied: cycler>=0.10 in /home/romain/.local/lib/python3.9/site-packages (from matplotlib!=3.6.1,>=3.1->seaborn) (0.11.0)\n",
      "Requirement already satisfied: fonttools>=4.22.0 in /home/romain/.local/lib/python3.9/site-packages (from matplotlib!=3.6.1,>=3.1->seaborn) (4.28.2)\n",
      "Requirement already satisfied: kiwisolver>=1.0.1 in /home/romain/.local/lib/python3.9/site-packages (from matplotlib!=3.6.1,>=3.1->seaborn) (1.3.2)\n",
      "Requirement already satisfied: packaging>=20.0 in /home/romain/anaconda3/envs/TX/lib/python3.9/site-packages (from matplotlib!=3.6.1,>=3.1->seaborn) (23.1)\n",
      "Requirement already satisfied: pillow>=6.2.0 in /home/romain/anaconda3/envs/TX/lib/python3.9/site-packages (from matplotlib!=3.6.1,>=3.1->seaborn) (10.0.0)\n",
      "Requirement already satisfied: pyparsing>=2.2.1 in /home/romain/anaconda3/envs/TX/lib/python3.9/site-packages (from matplotlib!=3.6.1,>=3.1->seaborn) (3.1.1)\n",
      "Requirement already satisfied: python-dateutil>=2.7 in /home/romain/.local/lib/python3.9/site-packages (from matplotlib!=3.6.1,>=3.1->seaborn) (2.8.2)\n",
      "Requirement already satisfied: setuptools-scm>=4 in /home/romain/.local/lib/python3.9/site-packages (from matplotlib!=3.6.1,>=3.1->seaborn) (6.3.2)\n",
      "Requirement already satisfied: pytz>=2020.1 in /home/romain/anaconda3/envs/TX/lib/python3.9/site-packages (from pandas>=0.25->seaborn) (2023.3.post1)\n",
      "Requirement already satisfied: tzdata>=2022.1 in /home/romain/anaconda3/envs/TX/lib/python3.9/site-packages (from pandas>=0.25->seaborn) (2023.3)\n",
      "Requirement already satisfied: six>=1.5 in /home/romain/anaconda3/envs/TX/lib/python3.9/site-packages (from python-dateutil>=2.7->matplotlib!=3.6.1,>=3.1->seaborn) (1.16.0)\n",
      "Requirement already satisfied: setuptools in /home/romain/anaconda3/envs/TX/lib/python3.9/site-packages (from setuptools-scm>=4->matplotlib!=3.6.1,>=3.1->seaborn) (68.1.2)\n",
      "Requirement already satisfied: tomli>=1.0.0 in /home/romain/anaconda3/envs/TX/lib/python3.9/site-packages (from setuptools-scm>=4->matplotlib!=3.6.1,>=3.1->seaborn) (2.0.1)\n"
     ]
    }
   ],
   "source": [
    "!pip install seaborn"
   ]
  },
  {
   "cell_type": "code",
   "execution_count": 6,
   "metadata": {},
   "outputs": [],
   "source": [
    "import pandas as pd\n",
    "import numpy as np\n",
    "import matplotlib.pyplot as plt"
   ]
  },
  {
   "cell_type": "code",
   "execution_count": 7,
   "metadata": {},
   "outputs": [],
   "source": [
    "log_file = \"detr_oap/output_folder/output_300_300/log.txt\"\n",
    "# The format of the log file is:\n",
    "# Each line is a json object with the metrics of each traning epoch\n",
    "\n",
    "# Read the file and convert it to a pandas dataframe\n",
    "df = pd.read_json(log_file, lines=True)"
   ]
  },
  {
   "cell_type": "code",
   "execution_count": 8,
   "metadata": {},
   "outputs": [],
   "source": [
    "# Add a column \"epoch\" to the dataframe\n",
    "df['epoch'] = df.index + 1"
   ]
  },
  {
   "cell_type": "code",
   "execution_count": 10,
   "metadata": {
    "collapsed": true,
    "jupyter": {
     "outputs_hidden": true
    }
   },
   "outputs": [
    {
     "name": "stdout",
     "output_type": "stream",
     "text": [
      "<class 'pandas.core.frame.DataFrame'>\n",
      "RangeIndex: 100 entries, 0 to 99\n",
      "Data columns (total 94 columns):\n",
      " #   Column                              Non-Null Count  Dtype  \n",
      "---  ------                              --------------  -----  \n",
      " 0   train_lr                            100 non-null    float64\n",
      " 1   train_class_error                   100 non-null    float64\n",
      " 2   train_loss                          100 non-null    float64\n",
      " 3   train_loss_ce                       100 non-null    float64\n",
      " 4   train_loss_bbox                     100 non-null    float64\n",
      " 5   train_loss_giou                     100 non-null    float64\n",
      " 6   train_loss_ce_0                     100 non-null    float64\n",
      " 7   train_loss_bbox_0                   100 non-null    float64\n",
      " 8   train_loss_giou_0                   100 non-null    float64\n",
      " 9   train_loss_ce_1                     100 non-null    float64\n",
      " 10  train_loss_bbox_1                   100 non-null    float64\n",
      " 11  train_loss_giou_1                   100 non-null    float64\n",
      " 12  train_loss_ce_2                     100 non-null    float64\n",
      " 13  train_loss_bbox_2                   100 non-null    float64\n",
      " 14  train_loss_giou_2                   100 non-null    float64\n",
      " 15  train_loss_ce_3                     100 non-null    float64\n",
      " 16  train_loss_bbox_3                   100 non-null    float64\n",
      " 17  train_loss_giou_3                   100 non-null    float64\n",
      " 18  train_loss_ce_4                     100 non-null    float64\n",
      " 19  train_loss_bbox_4                   100 non-null    float64\n",
      " 20  train_loss_giou_4                   100 non-null    float64\n",
      " 21  train_loss_ce_unscaled              100 non-null    float64\n",
      " 22  train_class_error_unscaled          100 non-null    float64\n",
      " 23  train_loss_bbox_unscaled            100 non-null    float64\n",
      " 24  train_loss_giou_unscaled            100 non-null    float64\n",
      " 25  train_cardinality_error_unscaled    100 non-null    float64\n",
      " 26  train_loss_ce_0_unscaled            100 non-null    float64\n",
      " 27  train_loss_bbox_0_unscaled          100 non-null    float64\n",
      " 28  train_loss_giou_0_unscaled          100 non-null    float64\n",
      " 29  train_cardinality_error_0_unscaled  100 non-null    float64\n",
      " 30  train_loss_ce_1_unscaled            100 non-null    float64\n",
      " 31  train_loss_bbox_1_unscaled          100 non-null    float64\n",
      " 32  train_loss_giou_1_unscaled          100 non-null    float64\n",
      " 33  train_cardinality_error_1_unscaled  100 non-null    float64\n",
      " 34  train_loss_ce_2_unscaled            100 non-null    float64\n",
      " 35  train_loss_bbox_2_unscaled          100 non-null    float64\n",
      " 36  train_loss_giou_2_unscaled          100 non-null    float64\n",
      " 37  train_cardinality_error_2_unscaled  100 non-null    float64\n",
      " 38  train_loss_ce_3_unscaled            100 non-null    float64\n",
      " 39  train_loss_bbox_3_unscaled          100 non-null    float64\n",
      " 40  train_loss_giou_3_unscaled          100 non-null    float64\n",
      " 41  train_cardinality_error_3_unscaled  100 non-null    float64\n",
      " 42  train_loss_ce_4_unscaled            100 non-null    float64\n",
      " 43  train_loss_bbox_4_unscaled          100 non-null    float64\n",
      " 44  train_loss_giou_4_unscaled          100 non-null    float64\n",
      " 45  train_cardinality_error_4_unscaled  100 non-null    float64\n",
      " 46  test_class_error                    100 non-null    float64\n",
      " 47  test_loss                           100 non-null    float64\n",
      " 48  test_loss_ce                        100 non-null    float64\n",
      " 49  test_loss_bbox                      100 non-null    float64\n",
      " 50  test_loss_giou                      100 non-null    float64\n",
      " 51  test_loss_ce_0                      100 non-null    float64\n",
      " 52  test_loss_bbox_0                    100 non-null    float64\n",
      " 53  test_loss_giou_0                    100 non-null    float64\n",
      " 54  test_loss_ce_1                      100 non-null    float64\n",
      " 55  test_loss_bbox_1                    100 non-null    float64\n",
      " 56  test_loss_giou_1                    100 non-null    float64\n",
      " 57  test_loss_ce_2                      100 non-null    float64\n",
      " 58  test_loss_bbox_2                    100 non-null    float64\n",
      " 59  test_loss_giou_2                    100 non-null    float64\n",
      " 60  test_loss_ce_3                      100 non-null    float64\n",
      " 61  test_loss_bbox_3                    100 non-null    float64\n",
      " 62  test_loss_giou_3                    100 non-null    float64\n",
      " 63  test_loss_ce_4                      100 non-null    float64\n",
      " 64  test_loss_bbox_4                    100 non-null    float64\n",
      " 65  test_loss_giou_4                    100 non-null    float64\n",
      " 66  test_loss_ce_unscaled               100 non-null    float64\n",
      " 67  test_class_error_unscaled           100 non-null    float64\n",
      " 68  test_loss_bbox_unscaled             100 non-null    float64\n",
      " 69  test_loss_giou_unscaled             100 non-null    float64\n",
      " 70  test_cardinality_error_unscaled     100 non-null    float64\n",
      " 71  test_loss_ce_0_unscaled             100 non-null    float64\n",
      " 72  test_loss_bbox_0_unscaled           100 non-null    float64\n",
      " 73  test_loss_giou_0_unscaled           100 non-null    float64\n",
      " 74  test_cardinality_error_0_unscaled   100 non-null    float64\n",
      " 75  test_loss_ce_1_unscaled             100 non-null    float64\n",
      " 76  test_loss_bbox_1_unscaled           100 non-null    float64\n",
      " 77  test_loss_giou_1_unscaled           100 non-null    float64\n",
      " 78  test_cardinality_error_1_unscaled   100 non-null    float64\n",
      " 79  test_loss_ce_2_unscaled             100 non-null    float64\n",
      " 80  test_loss_bbox_2_unscaled           100 non-null    float64\n",
      " 81  test_loss_giou_2_unscaled           100 non-null    float64\n",
      " 82  test_cardinality_error_2_unscaled   100 non-null    float64\n",
      " 83  test_loss_ce_3_unscaled             100 non-null    float64\n",
      " 84  test_loss_bbox_3_unscaled           100 non-null    float64\n",
      " 85  test_loss_giou_3_unscaled           100 non-null    float64\n",
      " 86  test_cardinality_error_3_unscaled   100 non-null    float64\n",
      " 87  test_loss_ce_4_unscaled             100 non-null    float64\n",
      " 88  test_loss_bbox_4_unscaled           100 non-null    float64\n",
      " 89  test_loss_giou_4_unscaled           100 non-null    float64\n",
      " 90  test_cardinality_error_4_unscaled   100 non-null    float64\n",
      " 91  test_coco_eval_bbox                 100 non-null    object \n",
      " 92  epoch                               100 non-null    int64  \n",
      " 93  n_parameters                        100 non-null    int64  \n",
      "dtypes: float64(91), int64(2), object(1)\n",
      "memory usage: 73.6+ KB\n"
     ]
    }
   ],
   "source": [
    "df.info()"
   ]
  },
  {
   "cell_type": "code",
   "execution_count": 11,
   "metadata": {},
   "outputs": [
    {
     "data": {
      "text/plain": [
       "[<matplotlib.lines.Line2D at 0x7fca290f6dd0>]"
      ]
     },
     "execution_count": 11,
     "metadata": {},
     "output_type": "execute_result"
    },
    {
     "data": {
      "image/png": "[encoded data removed]",
      "text/plain": [
       "<Figure size 640x480 with 1 Axes>"
      ]
     },
     "metadata": {},
     "output_type": "display_data"
    }
   ],
   "source": [
    "# plot the training loss vs epoch\n",
    "plt.plot(\n",
    "    df['epoch'],\n",
    "    df['train_loss'],\n",
    "    label=\"loss_ce\"\n",
    ")\n",
    "# plot the test loss\n",
    "plt.plot(\n",
    "    df['epoch'],\n",
    "    df['test_loss'],\n",
    "    label=\"loss_ce\"\n",
    ")"
   ]
  }
 ],
 "metadata": {
  "kernelspec": {
   "display_name": "Python 3 (ipykernel)",
   "language": "python",
   "name": "python3"
  },
  "language_info": {
   "codemirror_mode": {
    "name": "ipython",
    "version": 3
   },
   "file_extension": ".py",
   "mimetype": "text/x-python",
   "name": "python",
   "nbconvert_exporter": "python",
   "pygments_lexer": "ipython3",
   "version": "3.11.5"
  }
 },
 "nbformat": 4,
 "nbformat_minor": 4
}
