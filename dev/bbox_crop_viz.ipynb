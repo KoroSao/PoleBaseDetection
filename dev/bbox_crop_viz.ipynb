{
 "cells": [
  {
   "cell_type": "code",
   "execution_count": 1,
   "metadata": {},
   "outputs": [],
   "source": [
    "import numpy as np\n",
    "import matplotlib.pyplot as plt"
   ]
  },
  {
   "cell_type": "code",
   "execution_count": 61,
   "metadata": {},
   "outputs": [],
   "source": [
    "def get_fitting_bbox(x_c, y_c, size, width, height):\n",
    "    \"\"\"\n",
    "    x_c: x coordinate of the center of the bounding box\n",
    "    y_c: y coordinate of the center of the bounding box\n",
    "    size: size of the bounding box\n",
    "    width: width of the image\n",
    "    height: height of the image\n",
    "    \n",
    "    returns: xtl, ytl, bbox_width, bbox_height\n",
    "    \n",
    "    If the bounding box is outside of the image, the function returns the largest possible bbox \n",
    "    that fits in the image but its center is still (x_c, y_c)\n",
    "    \"\"\"\n",
    "\n",
    "    # Calculate potential bbox_width and bbox_height without exceeding the remaining width and height\n",
    "    bbox_width = min(size, (width - x_c)*2)\n",
    "    bbox_height = min(size, (height - y_c)*2)\n",
    "\n",
    "    # Calculate potential xtl and ytl without going below 0\n",
    "    xtl = max(0, x_c - bbox_width//2)\n",
    "    ytl = max(0, y_c - bbox_height//2)\n",
    "\n",
    "    return xtl, ytl, bbox_width, bbox_height\n"
   ]
  },
  {
   "cell_type": "code",
   "execution_count": 75,
   "metadata": {},
   "outputs": [
    {
     "name": "stdout",
     "output_type": "stream",
     "text": [
      "1180 580 100 140\n"
     ]
    },
    {
     "data": {
      "text/plain": [
       "<matplotlib.image.AxesImage at 0x7f5644a57430>"
      ]
     },
     "execution_count": 75,
     "metadata": {},
     "output_type": "execute_result"
    },
    {
     "data": {
      "image/png": "[encoded data removed]",
      "text/plain": [
       "<Figure size 640x480 with 1 Axes>"
      ]
     },
     "metadata": {},
     "output_type": "display_data"
    }
   ],
   "source": [
    "# create an black image of size 1280x720\n",
    "img = np.zeros((720, 1280, 3), dtype=np.uint8)\n",
    "\n",
    "x_c, y_c = 1230, 650\n",
    "\n",
    "# draw a red bounding box of size 100x100 at the center of the image\n",
    "xtl, ytl, bbox_width, bbox_height = get_fitting_bbox(x_c, y_c, 200, 1280, 720)\n",
    "print(xtl, ytl, bbox_width, bbox_height)\n",
    "\n",
    "# draw the bounding box\n",
    "img[ytl:ytl+bbox_height, xtl:xtl+bbox_width, :] = [255, 0, 0]\n",
    "\n",
    "# add a green large point at the center of the bounding box\n",
    "img[y_c-5:y_c+5, x_c-5:x_c+5, :] = [0, 255, 0]\n",
    "\n",
    "# show the image\n",
    "plt.imshow(img)\n",
    "\n",
    "# expected output (xtl, ytl, bbox_width, bbox_height) = (1240, 250, 40, 100)"
   ]
  },
  {
   "cell_type": "code",
   "execution_count": null,
   "metadata": {},
   "outputs": [],
   "source": []
  }
 ],
 "metadata": {
  "kernelspec": {
   "display_name": "TX",
   "language": "python",
   "name": "python3"
  },
  "language_info": {
   "codemirror_mode": {
    "name": "ipython",
    "version": 3
   },
   "file_extension": ".py",
   "mimetype": "text/x-python",
   "name": "python",
   "nbconvert_exporter": "python",
   "pygments_lexer": "ipython3",
   "version": "3.9.18"
  }
 },
 "nbformat": 4,
 "nbformat_minor": 2
}
